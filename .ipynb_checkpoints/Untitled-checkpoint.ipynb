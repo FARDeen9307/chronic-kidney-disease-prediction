{
 "cells": [
  {
   "cell_type": "markdown",
   "id": "a54a74d3",
   "metadata": {},
   "source": [
    "# Predicting Chronic Kidney Disease based on health records\n",
    "- Classification Problem"
   ]
  },
  {
   "cell_type": "markdown",
   "id": "9a4c4fc2",
   "metadata": {},
   "source": [
    "https://archive.ics.uci.edu/ml/datasets/chronic_kidney_disease"
   ]
  },
  {
   "cell_type": "raw",
   "id": "81df02cd",
   "metadata": {},
   "source": [
    "Data Set Information:\n",
    "\n",
    "We use the following representation to collect the dataset\n",
    "age - age\n",
    "bp - blood pressure\n",
    "sg - specific gravity\n",
    "al - albumin\n",
    "su - sugar\n",
    "rbc - red blood cells\n",
    "pc - pus cell\n",
    "pcc - pus cell clumps\n",
    "ba - bacteria\n",
    "bgr - blood glucose random\n",
    "bu - blood urea\n",
    "sc - serum creatinine\n",
    "sod - sodium\n",
    "pot - potassium\n",
    "hemo - hemoglobin\n",
    "pcv - packed cell volume\n",
    "wc - white blood cell count\n",
    "rc - red blood cell count\n",
    "htn - hypertension\n",
    "dm - diabetes mellitus\n",
    "cad - coronary artery disease\n",
    "appet - appetite\n",
    "pe - pedal edema\n",
    "ane - anemia\n",
    "class - class"
   ]
  },
  {
   "cell_type": "code",
   "execution_count": 2,
   "id": "a64f5f4c",
   "metadata": {},
   "outputs": [],
   "source": [
    "import pandas as pd\n",
    "import numpy as np\n",
    "import matplotlib.pyplot as plt\n",
    "import seaborn as sns"
   ]
  },
  {
   "cell_type": "code",
   "execution_count": 3,
   "id": "19e9a0bf",
   "metadata": {},
   "outputs": [
    {
     "data": {
      "text/html": [
       "<div>\n",
       "<style scoped>\n",
       "    .dataframe tbody tr th:only-of-type {\n",
       "        vertical-align: middle;\n",
       "    }\n",
       "\n",
       "    .dataframe tbody tr th {\n",
       "        vertical-align: top;\n",
       "    }\n",
       "\n",
       "    .dataframe thead th {\n",
       "        text-align: right;\n",
       "    }\n",
       "</style>\n",
       "<table border=\"1\" class=\"dataframe\">\n",
       "  <thead>\n",
       "    <tr style=\"text-align: right;\">\n",
       "      <th></th>\n",
       "      <th>id</th>\n",
       "      <th>age</th>\n",
       "      <th>bp</th>\n",
       "      <th>sg</th>\n",
       "      <th>al</th>\n",
       "      <th>su</th>\n",
       "      <th>rbc</th>\n",
       "      <th>pc</th>\n",
       "      <th>pcc</th>\n",
       "      <th>ba</th>\n",
       "      <th>...</th>\n",
       "      <th>pcv</th>\n",
       "      <th>wc</th>\n",
       "      <th>rc</th>\n",
       "      <th>htn</th>\n",
       "      <th>dm</th>\n",
       "      <th>cad</th>\n",
       "      <th>appet</th>\n",
       "      <th>pe</th>\n",
       "      <th>ane</th>\n",
       "      <th>classification</th>\n",
       "    </tr>\n",
       "  </thead>\n",
       "  <tbody>\n",
       "    <tr>\n",
       "      <th>0</th>\n",
       "      <td>0</td>\n",
       "      <td>48.0</td>\n",
       "      <td>80.0</td>\n",
       "      <td>1.020</td>\n",
       "      <td>1.0</td>\n",
       "      <td>0.0</td>\n",
       "      <td>NaN</td>\n",
       "      <td>normal</td>\n",
       "      <td>notpresent</td>\n",
       "      <td>notpresent</td>\n",
       "      <td>...</td>\n",
       "      <td>44</td>\n",
       "      <td>7800</td>\n",
       "      <td>5.2</td>\n",
       "      <td>yes</td>\n",
       "      <td>yes</td>\n",
       "      <td>no</td>\n",
       "      <td>good</td>\n",
       "      <td>no</td>\n",
       "      <td>no</td>\n",
       "      <td>ckd</td>\n",
       "    </tr>\n",
       "    <tr>\n",
       "      <th>1</th>\n",
       "      <td>1</td>\n",
       "      <td>7.0</td>\n",
       "      <td>50.0</td>\n",
       "      <td>1.020</td>\n",
       "      <td>4.0</td>\n",
       "      <td>0.0</td>\n",
       "      <td>NaN</td>\n",
       "      <td>normal</td>\n",
       "      <td>notpresent</td>\n",
       "      <td>notpresent</td>\n",
       "      <td>...</td>\n",
       "      <td>38</td>\n",
       "      <td>6000</td>\n",
       "      <td>NaN</td>\n",
       "      <td>no</td>\n",
       "      <td>no</td>\n",
       "      <td>no</td>\n",
       "      <td>good</td>\n",
       "      <td>no</td>\n",
       "      <td>no</td>\n",
       "      <td>ckd</td>\n",
       "    </tr>\n",
       "    <tr>\n",
       "      <th>2</th>\n",
       "      <td>2</td>\n",
       "      <td>62.0</td>\n",
       "      <td>80.0</td>\n",
       "      <td>1.010</td>\n",
       "      <td>2.0</td>\n",
       "      <td>3.0</td>\n",
       "      <td>normal</td>\n",
       "      <td>normal</td>\n",
       "      <td>notpresent</td>\n",
       "      <td>notpresent</td>\n",
       "      <td>...</td>\n",
       "      <td>31</td>\n",
       "      <td>7500</td>\n",
       "      <td>NaN</td>\n",
       "      <td>no</td>\n",
       "      <td>yes</td>\n",
       "      <td>no</td>\n",
       "      <td>poor</td>\n",
       "      <td>no</td>\n",
       "      <td>yes</td>\n",
       "      <td>ckd</td>\n",
       "    </tr>\n",
       "    <tr>\n",
       "      <th>3</th>\n",
       "      <td>3</td>\n",
       "      <td>48.0</td>\n",
       "      <td>70.0</td>\n",
       "      <td>1.005</td>\n",
       "      <td>4.0</td>\n",
       "      <td>0.0</td>\n",
       "      <td>normal</td>\n",
       "      <td>abnormal</td>\n",
       "      <td>present</td>\n",
       "      <td>notpresent</td>\n",
       "      <td>...</td>\n",
       "      <td>32</td>\n",
       "      <td>6700</td>\n",
       "      <td>3.9</td>\n",
       "      <td>yes</td>\n",
       "      <td>no</td>\n",
       "      <td>no</td>\n",
       "      <td>poor</td>\n",
       "      <td>yes</td>\n",
       "      <td>yes</td>\n",
       "      <td>ckd</td>\n",
       "    </tr>\n",
       "    <tr>\n",
       "      <th>4</th>\n",
       "      <td>4</td>\n",
       "      <td>51.0</td>\n",
       "      <td>80.0</td>\n",
       "      <td>1.010</td>\n",
       "      <td>2.0</td>\n",
       "      <td>0.0</td>\n",
       "      <td>normal</td>\n",
       "      <td>normal</td>\n",
       "      <td>notpresent</td>\n",
       "      <td>notpresent</td>\n",
       "      <td>...</td>\n",
       "      <td>35</td>\n",
       "      <td>7300</td>\n",
       "      <td>4.6</td>\n",
       "      <td>no</td>\n",
       "      <td>no</td>\n",
       "      <td>no</td>\n",
       "      <td>good</td>\n",
       "      <td>no</td>\n",
       "      <td>no</td>\n",
       "      <td>ckd</td>\n",
       "    </tr>\n",
       "  </tbody>\n",
       "</table>\n",
       "<p>5 rows × 26 columns</p>\n",
       "</div>"
      ],
      "text/plain": [
       "   id   age    bp     sg   al   su     rbc        pc         pcc          ba  \\\n",
       "0   0  48.0  80.0  1.020  1.0  0.0     NaN    normal  notpresent  notpresent   \n",
       "1   1   7.0  50.0  1.020  4.0  0.0     NaN    normal  notpresent  notpresent   \n",
       "2   2  62.0  80.0  1.010  2.0  3.0  normal    normal  notpresent  notpresent   \n",
       "3   3  48.0  70.0  1.005  4.0  0.0  normal  abnormal     present  notpresent   \n",
       "4   4  51.0  80.0  1.010  2.0  0.0  normal    normal  notpresent  notpresent   \n",
       "\n",
       "   ...  pcv    wc   rc  htn   dm  cad appet   pe  ane classification  \n",
       "0  ...   44  7800  5.2  yes  yes   no  good   no   no            ckd  \n",
       "1  ...   38  6000  NaN   no   no   no  good   no   no            ckd  \n",
       "2  ...   31  7500  NaN   no  yes   no  poor   no  yes            ckd  \n",
       "3  ...   32  6700  3.9  yes   no   no  poor  yes  yes            ckd  \n",
       "4  ...   35  7300  4.6   no   no   no  good   no   no            ckd  \n",
       "\n",
       "[5 rows x 26 columns]"
      ]
     },
     "execution_count": 3,
     "metadata": {},
     "output_type": "execute_result"
    }
   ],
   "source": [
    "df = pd.read_csv(\"kidney_disease.csv\")\n",
    "df.head(5)"
   ]
  },
  {
   "cell_type": "code",
   "execution_count": 4,
   "id": "ef4dace8",
   "metadata": {},
   "outputs": [
    {
     "data": {
      "text/plain": [
       "(400, 26)"
      ]
     },
     "execution_count": 4,
     "metadata": {},
     "output_type": "execute_result"
    }
   ],
   "source": [
    "df.shape"
   ]
  },
  {
   "cell_type": "code",
   "execution_count": 5,
   "id": "bec18f1a",
   "metadata": {},
   "outputs": [
    {
     "data": {
      "text/plain": [
       "Index(['id', 'age', 'bp', 'sg', 'al', 'su', 'rbc', 'pc', 'pcc', 'ba', 'bgr',\n",
       "       'bu', 'sc', 'sod', 'pot', 'hemo', 'pcv', 'wc', 'rc', 'htn', 'dm', 'cad',\n",
       "       'appet', 'pe', 'ane', 'classification'],\n",
       "      dtype='object')"
      ]
     },
     "execution_count": 5,
     "metadata": {},
     "output_type": "execute_result"
    }
   ],
   "source": [
    "df.columns"
   ]
  },
  {
   "cell_type": "code",
   "execution_count": 6,
   "id": "8fe57aeb",
   "metadata": {},
   "outputs": [
    {
     "data": {
      "text/plain": [
       "classification\n",
       "ckd       248\n",
       "notckd    150\n",
       "ckd\\t       2\n",
       "Name: count, dtype: int64"
      ]
     },
     "execution_count": 6,
     "metadata": {},
     "output_type": "execute_result"
    }
   ],
   "source": [
    "df['classification'].value_counts()"
   ]
  },
  {
   "cell_type": "code",
   "execution_count": 7,
   "id": "776f8a30",
   "metadata": {},
   "outputs": [
    {
     "name": "stdout",
     "output_type": "stream",
     "text": [
      "<class 'pandas.core.frame.DataFrame'>\n",
      "RangeIndex: 400 entries, 0 to 399\n",
      "Data columns (total 26 columns):\n",
      " #   Column          Non-Null Count  Dtype  \n",
      "---  ------          --------------  -----  \n",
      " 0   id              400 non-null    int64  \n",
      " 1   age             391 non-null    float64\n",
      " 2   bp              388 non-null    float64\n",
      " 3   sg              353 non-null    float64\n",
      " 4   al              354 non-null    float64\n",
      " 5   su              351 non-null    float64\n",
      " 6   rbc             248 non-null    object \n",
      " 7   pc              335 non-null    object \n",
      " 8   pcc             396 non-null    object \n",
      " 9   ba              396 non-null    object \n",
      " 10  bgr             356 non-null    float64\n",
      " 11  bu              381 non-null    float64\n",
      " 12  sc              383 non-null    float64\n",
      " 13  sod             313 non-null    float64\n",
      " 14  pot             312 non-null    float64\n",
      " 15  hemo            348 non-null    float64\n",
      " 16  pcv             330 non-null    object \n",
      " 17  wc              295 non-null    object \n",
      " 18  rc              270 non-null    object \n",
      " 19  htn             398 non-null    object \n",
      " 20  dm              398 non-null    object \n",
      " 21  cad             398 non-null    object \n",
      " 22  appet           399 non-null    object \n",
      " 23  pe              399 non-null    object \n",
      " 24  ane             399 non-null    object \n",
      " 25  classification  400 non-null    object \n",
      "dtypes: float64(11), int64(1), object(14)\n",
      "memory usage: 81.4+ KB\n"
     ]
    }
   ],
   "source": [
    "df.info()"
   ]
  },
  {
   "cell_type": "code",
   "execution_count": 8,
   "id": "f252cec1",
   "metadata": {},
   "outputs": [
    {
     "data": {
      "text/plain": [
       "id                  0\n",
       "age                 9\n",
       "bp                 12\n",
       "sg                 47\n",
       "al                 46\n",
       "su                 49\n",
       "rbc               152\n",
       "pc                 65\n",
       "pcc                 4\n",
       "ba                  4\n",
       "bgr                44\n",
       "bu                 19\n",
       "sc                 17\n",
       "sod                87\n",
       "pot                88\n",
       "hemo               52\n",
       "pcv                70\n",
       "wc                105\n",
       "rc                130\n",
       "htn                 2\n",
       "dm                  2\n",
       "cad                 2\n",
       "appet               1\n",
       "pe                  1\n",
       "ane                 1\n",
       "classification      0\n",
       "dtype: int64"
      ]
     },
     "execution_count": 8,
     "metadata": {},
     "output_type": "execute_result"
    }
   ],
   "source": [
    "df.isnull().sum()"
   ]
  },
  {
   "cell_type": "markdown",
   "id": "5da5d65d",
   "metadata": {},
   "source": [
    "- for numerical data use Mean & median\n",
    "- for Cateogrial Data use Mode"
   ]
  },
  {
   "cell_type": "code",
   "execution_count": 9,
   "id": "b6fe6147",
   "metadata": {},
   "outputs": [],
   "source": [
    "from sklearn.impute import SimpleImputer"
   ]
  },
  {
   "cell_type": "code",
   "execution_count": 10,
   "id": "70893a1d",
   "metadata": {},
   "outputs": [
    {
     "data": {
      "text/html": [
       "<div>\n",
       "<style scoped>\n",
       "    .dataframe tbody tr th:only-of-type {\n",
       "        vertical-align: middle;\n",
       "    }\n",
       "\n",
       "    .dataframe tbody tr th {\n",
       "        vertical-align: top;\n",
       "    }\n",
       "\n",
       "    .dataframe thead th {\n",
       "        text-align: right;\n",
       "    }\n",
       "</style>\n",
       "<table border=\"1\" class=\"dataframe\">\n",
       "  <thead>\n",
       "    <tr style=\"text-align: right;\">\n",
       "      <th></th>\n",
       "      <th>id</th>\n",
       "      <th>age</th>\n",
       "      <th>bp</th>\n",
       "      <th>sg</th>\n",
       "      <th>al</th>\n",
       "      <th>su</th>\n",
       "      <th>rbc</th>\n",
       "      <th>pc</th>\n",
       "      <th>pcc</th>\n",
       "      <th>ba</th>\n",
       "      <th>...</th>\n",
       "      <th>pcv</th>\n",
       "      <th>wc</th>\n",
       "      <th>rc</th>\n",
       "      <th>htn</th>\n",
       "      <th>dm</th>\n",
       "      <th>cad</th>\n",
       "      <th>appet</th>\n",
       "      <th>pe</th>\n",
       "      <th>ane</th>\n",
       "      <th>classification</th>\n",
       "    </tr>\n",
       "  </thead>\n",
       "  <tbody>\n",
       "    <tr>\n",
       "      <th>0</th>\n",
       "      <td>0</td>\n",
       "      <td>48.0</td>\n",
       "      <td>80.0</td>\n",
       "      <td>1.02</td>\n",
       "      <td>1.0</td>\n",
       "      <td>0.0</td>\n",
       "      <td>normal</td>\n",
       "      <td>normal</td>\n",
       "      <td>notpresent</td>\n",
       "      <td>notpresent</td>\n",
       "      <td>...</td>\n",
       "      <td>44</td>\n",
       "      <td>7800</td>\n",
       "      <td>5.2</td>\n",
       "      <td>yes</td>\n",
       "      <td>yes</td>\n",
       "      <td>no</td>\n",
       "      <td>good</td>\n",
       "      <td>no</td>\n",
       "      <td>no</td>\n",
       "      <td>ckd</td>\n",
       "    </tr>\n",
       "    <tr>\n",
       "      <th>1</th>\n",
       "      <td>1</td>\n",
       "      <td>7.0</td>\n",
       "      <td>50.0</td>\n",
       "      <td>1.02</td>\n",
       "      <td>4.0</td>\n",
       "      <td>0.0</td>\n",
       "      <td>normal</td>\n",
       "      <td>normal</td>\n",
       "      <td>notpresent</td>\n",
       "      <td>notpresent</td>\n",
       "      <td>...</td>\n",
       "      <td>38</td>\n",
       "      <td>6000</td>\n",
       "      <td>5.2</td>\n",
       "      <td>no</td>\n",
       "      <td>no</td>\n",
       "      <td>no</td>\n",
       "      <td>good</td>\n",
       "      <td>no</td>\n",
       "      <td>no</td>\n",
       "      <td>ckd</td>\n",
       "    </tr>\n",
       "    <tr>\n",
       "      <th>2</th>\n",
       "      <td>2</td>\n",
       "      <td>62.0</td>\n",
       "      <td>80.0</td>\n",
       "      <td>1.01</td>\n",
       "      <td>2.0</td>\n",
       "      <td>3.0</td>\n",
       "      <td>normal</td>\n",
       "      <td>normal</td>\n",
       "      <td>notpresent</td>\n",
       "      <td>notpresent</td>\n",
       "      <td>...</td>\n",
       "      <td>31</td>\n",
       "      <td>7500</td>\n",
       "      <td>5.2</td>\n",
       "      <td>no</td>\n",
       "      <td>yes</td>\n",
       "      <td>no</td>\n",
       "      <td>poor</td>\n",
       "      <td>no</td>\n",
       "      <td>yes</td>\n",
       "      <td>ckd</td>\n",
       "    </tr>\n",
       "    <tr>\n",
       "      <th>3</th>\n",
       "      <td>3</td>\n",
       "      <td>48.0</td>\n",
       "      <td>70.0</td>\n",
       "      <td>1.005</td>\n",
       "      <td>4.0</td>\n",
       "      <td>0.0</td>\n",
       "      <td>normal</td>\n",
       "      <td>abnormal</td>\n",
       "      <td>present</td>\n",
       "      <td>notpresent</td>\n",
       "      <td>...</td>\n",
       "      <td>32</td>\n",
       "      <td>6700</td>\n",
       "      <td>3.9</td>\n",
       "      <td>yes</td>\n",
       "      <td>no</td>\n",
       "      <td>no</td>\n",
       "      <td>poor</td>\n",
       "      <td>yes</td>\n",
       "      <td>yes</td>\n",
       "      <td>ckd</td>\n",
       "    </tr>\n",
       "    <tr>\n",
       "      <th>4</th>\n",
       "      <td>4</td>\n",
       "      <td>51.0</td>\n",
       "      <td>80.0</td>\n",
       "      <td>1.01</td>\n",
       "      <td>2.0</td>\n",
       "      <td>0.0</td>\n",
       "      <td>normal</td>\n",
       "      <td>normal</td>\n",
       "      <td>notpresent</td>\n",
       "      <td>notpresent</td>\n",
       "      <td>...</td>\n",
       "      <td>35</td>\n",
       "      <td>7300</td>\n",
       "      <td>4.6</td>\n",
       "      <td>no</td>\n",
       "      <td>no</td>\n",
       "      <td>no</td>\n",
       "      <td>good</td>\n",
       "      <td>no</td>\n",
       "      <td>no</td>\n",
       "      <td>ckd</td>\n",
       "    </tr>\n",
       "    <tr>\n",
       "      <th>...</th>\n",
       "      <td>...</td>\n",
       "      <td>...</td>\n",
       "      <td>...</td>\n",
       "      <td>...</td>\n",
       "      <td>...</td>\n",
       "      <td>...</td>\n",
       "      <td>...</td>\n",
       "      <td>...</td>\n",
       "      <td>...</td>\n",
       "      <td>...</td>\n",
       "      <td>...</td>\n",
       "      <td>...</td>\n",
       "      <td>...</td>\n",
       "      <td>...</td>\n",
       "      <td>...</td>\n",
       "      <td>...</td>\n",
       "      <td>...</td>\n",
       "      <td>...</td>\n",
       "      <td>...</td>\n",
       "      <td>...</td>\n",
       "      <td>...</td>\n",
       "    </tr>\n",
       "    <tr>\n",
       "      <th>395</th>\n",
       "      <td>395</td>\n",
       "      <td>55.0</td>\n",
       "      <td>80.0</td>\n",
       "      <td>1.02</td>\n",
       "      <td>0.0</td>\n",
       "      <td>0.0</td>\n",
       "      <td>normal</td>\n",
       "      <td>normal</td>\n",
       "      <td>notpresent</td>\n",
       "      <td>notpresent</td>\n",
       "      <td>...</td>\n",
       "      <td>47</td>\n",
       "      <td>6700</td>\n",
       "      <td>4.9</td>\n",
       "      <td>no</td>\n",
       "      <td>no</td>\n",
       "      <td>no</td>\n",
       "      <td>good</td>\n",
       "      <td>no</td>\n",
       "      <td>no</td>\n",
       "      <td>notckd</td>\n",
       "    </tr>\n",
       "    <tr>\n",
       "      <th>396</th>\n",
       "      <td>396</td>\n",
       "      <td>42.0</td>\n",
       "      <td>70.0</td>\n",
       "      <td>1.025</td>\n",
       "      <td>0.0</td>\n",
       "      <td>0.0</td>\n",
       "      <td>normal</td>\n",
       "      <td>normal</td>\n",
       "      <td>notpresent</td>\n",
       "      <td>notpresent</td>\n",
       "      <td>...</td>\n",
       "      <td>54</td>\n",
       "      <td>7800</td>\n",
       "      <td>6.2</td>\n",
       "      <td>no</td>\n",
       "      <td>no</td>\n",
       "      <td>no</td>\n",
       "      <td>good</td>\n",
       "      <td>no</td>\n",
       "      <td>no</td>\n",
       "      <td>notckd</td>\n",
       "    </tr>\n",
       "    <tr>\n",
       "      <th>397</th>\n",
       "      <td>397</td>\n",
       "      <td>12.0</td>\n",
       "      <td>80.0</td>\n",
       "      <td>1.02</td>\n",
       "      <td>0.0</td>\n",
       "      <td>0.0</td>\n",
       "      <td>normal</td>\n",
       "      <td>normal</td>\n",
       "      <td>notpresent</td>\n",
       "      <td>notpresent</td>\n",
       "      <td>...</td>\n",
       "      <td>49</td>\n",
       "      <td>6600</td>\n",
       "      <td>5.4</td>\n",
       "      <td>no</td>\n",
       "      <td>no</td>\n",
       "      <td>no</td>\n",
       "      <td>good</td>\n",
       "      <td>no</td>\n",
       "      <td>no</td>\n",
       "      <td>notckd</td>\n",
       "    </tr>\n",
       "    <tr>\n",
       "      <th>398</th>\n",
       "      <td>398</td>\n",
       "      <td>17.0</td>\n",
       "      <td>60.0</td>\n",
       "      <td>1.025</td>\n",
       "      <td>0.0</td>\n",
       "      <td>0.0</td>\n",
       "      <td>normal</td>\n",
       "      <td>normal</td>\n",
       "      <td>notpresent</td>\n",
       "      <td>notpresent</td>\n",
       "      <td>...</td>\n",
       "      <td>51</td>\n",
       "      <td>7200</td>\n",
       "      <td>5.9</td>\n",
       "      <td>no</td>\n",
       "      <td>no</td>\n",
       "      <td>no</td>\n",
       "      <td>good</td>\n",
       "      <td>no</td>\n",
       "      <td>no</td>\n",
       "      <td>notckd</td>\n",
       "    </tr>\n",
       "    <tr>\n",
       "      <th>399</th>\n",
       "      <td>399</td>\n",
       "      <td>58.0</td>\n",
       "      <td>80.0</td>\n",
       "      <td>1.025</td>\n",
       "      <td>0.0</td>\n",
       "      <td>0.0</td>\n",
       "      <td>normal</td>\n",
       "      <td>normal</td>\n",
       "      <td>notpresent</td>\n",
       "      <td>notpresent</td>\n",
       "      <td>...</td>\n",
       "      <td>53</td>\n",
       "      <td>6800</td>\n",
       "      <td>6.1</td>\n",
       "      <td>no</td>\n",
       "      <td>no</td>\n",
       "      <td>no</td>\n",
       "      <td>good</td>\n",
       "      <td>no</td>\n",
       "      <td>no</td>\n",
       "      <td>notckd</td>\n",
       "    </tr>\n",
       "  </tbody>\n",
       "</table>\n",
       "<p>400 rows × 26 columns</p>\n",
       "</div>"
      ],
      "text/plain": [
       "      id   age    bp     sg   al   su     rbc        pc         pcc  \\\n",
       "0      0  48.0  80.0   1.02  1.0  0.0  normal    normal  notpresent   \n",
       "1      1   7.0  50.0   1.02  4.0  0.0  normal    normal  notpresent   \n",
       "2      2  62.0  80.0   1.01  2.0  3.0  normal    normal  notpresent   \n",
       "3      3  48.0  70.0  1.005  4.0  0.0  normal  abnormal     present   \n",
       "4      4  51.0  80.0   1.01  2.0  0.0  normal    normal  notpresent   \n",
       "..   ...   ...   ...    ...  ...  ...     ...       ...         ...   \n",
       "395  395  55.0  80.0   1.02  0.0  0.0  normal    normal  notpresent   \n",
       "396  396  42.0  70.0  1.025  0.0  0.0  normal    normal  notpresent   \n",
       "397  397  12.0  80.0   1.02  0.0  0.0  normal    normal  notpresent   \n",
       "398  398  17.0  60.0  1.025  0.0  0.0  normal    normal  notpresent   \n",
       "399  399  58.0  80.0  1.025  0.0  0.0  normal    normal  notpresent   \n",
       "\n",
       "             ba  ... pcv    wc   rc  htn   dm cad appet   pe  ane  \\\n",
       "0    notpresent  ...  44  7800  5.2  yes  yes  no  good   no   no   \n",
       "1    notpresent  ...  38  6000  5.2   no   no  no  good   no   no   \n",
       "2    notpresent  ...  31  7500  5.2   no  yes  no  poor   no  yes   \n",
       "3    notpresent  ...  32  6700  3.9  yes   no  no  poor  yes  yes   \n",
       "4    notpresent  ...  35  7300  4.6   no   no  no  good   no   no   \n",
       "..          ...  ...  ..   ...  ...  ...  ...  ..   ...  ...  ...   \n",
       "395  notpresent  ...  47  6700  4.9   no   no  no  good   no   no   \n",
       "396  notpresent  ...  54  7800  6.2   no   no  no  good   no   no   \n",
       "397  notpresent  ...  49  6600  5.4   no   no  no  good   no   no   \n",
       "398  notpresent  ...  51  7200  5.9   no   no  no  good   no   no   \n",
       "399  notpresent  ...  53  6800  6.1   no   no  no  good   no   no   \n",
       "\n",
       "    classification  \n",
       "0              ckd  \n",
       "1              ckd  \n",
       "2              ckd  \n",
       "3              ckd  \n",
       "4              ckd  \n",
       "..             ...  \n",
       "395         notckd  \n",
       "396         notckd  \n",
       "397         notckd  \n",
       "398         notckd  \n",
       "399         notckd  \n",
       "\n",
       "[400 rows x 26 columns]"
      ]
     },
     "execution_count": 10,
     "metadata": {},
     "output_type": "execute_result"
    }
   ],
   "source": [
    "mode = SimpleImputer(missing_values = np.nan, strategy = 'most_frequent')\n",
    "\n",
    "df_imputer  = pd.DataFrame(mode.fit_transform(df))\n",
    "df_imputer.columns = df.columns\n",
    "df_imputer"
   ]
  },
  {
   "cell_type": "code",
   "execution_count": 11,
   "id": "643ef2b7",
   "metadata": {},
   "outputs": [
    {
     "data": {
      "text/plain": [
       "id                0\n",
       "age               0\n",
       "bp                0\n",
       "sg                0\n",
       "al                0\n",
       "su                0\n",
       "rbc               0\n",
       "pc                0\n",
       "pcc               0\n",
       "ba                0\n",
       "bgr               0\n",
       "bu                0\n",
       "sc                0\n",
       "sod               0\n",
       "pot               0\n",
       "hemo              0\n",
       "pcv               0\n",
       "wc                0\n",
       "rc                0\n",
       "htn               0\n",
       "dm                0\n",
       "cad               0\n",
       "appet             0\n",
       "pe                0\n",
       "ane               0\n",
       "classification    0\n",
       "dtype: int64"
      ]
     },
     "execution_count": 11,
     "metadata": {},
     "output_type": "execute_result"
    }
   ],
   "source": [
    "df_imputer.isnull().sum()"
   ]
  },
  {
   "cell_type": "markdown",
   "id": "67177e11",
   "metadata": {},
   "source": [
    "- Finding unique values in the columns"
   ]
  },
  {
   "cell_type": "code",
   "execution_count": 12,
   "id": "2ecc371a",
   "metadata": {
    "scrolled": true
   },
   "outputs": [
    {
     "data": {
      "text/plain": [
       "{2.0,\n",
       " 3.0,\n",
       " 4.0,\n",
       " 5.0,\n",
       " 6.0,\n",
       " 7.0,\n",
       " 8.0,\n",
       " 11.0,\n",
       " 12.0,\n",
       " 14.0,\n",
       " 15.0,\n",
       " 17.0,\n",
       " 19.0,\n",
       " 20.0,\n",
       " 21.0,\n",
       " 22.0,\n",
       " 23.0,\n",
       " 24.0,\n",
       " 25.0,\n",
       " 26.0,\n",
       " 27.0,\n",
       " 28.0,\n",
       " 29.0,\n",
       " 30.0,\n",
       " 32.0,\n",
       " 33.0,\n",
       " 34.0,\n",
       " 35.0,\n",
       " 36.0,\n",
       " 37.0,\n",
       " 38.0,\n",
       " 39.0,\n",
       " 40.0,\n",
       " 41.0,\n",
       " 42.0,\n",
       " 43.0,\n",
       " 44.0,\n",
       " 45.0,\n",
       " 46.0,\n",
       " 47.0,\n",
       " 48.0,\n",
       " 49.0,\n",
       " 50.0,\n",
       " 51.0,\n",
       " 52.0,\n",
       " 53.0,\n",
       " 54.0,\n",
       " 55.0,\n",
       " 56.0,\n",
       " 57.0,\n",
       " 58.0,\n",
       " 59.0,\n",
       " 60.0,\n",
       " 61.0,\n",
       " 62.0,\n",
       " 63.0,\n",
       " 64.0,\n",
       " 65.0,\n",
       " 66.0,\n",
       " 67.0,\n",
       " 68.0,\n",
       " 69.0,\n",
       " 70.0,\n",
       " 71.0,\n",
       " 72.0,\n",
       " 73.0,\n",
       " 74.0,\n",
       " 75.0,\n",
       " 76.0,\n",
       " 78.0,\n",
       " 79.0,\n",
       " 80.0,\n",
       " 81.0,\n",
       " 82.0,\n",
       " 83.0,\n",
       " 90.0}"
      ]
     },
     "execution_count": 12,
     "metadata": {},
     "output_type": "execute_result"
    }
   ],
   "source": [
    "set(df_imputer['age'].tolist())"
   ]
  },
  {
   "cell_type": "code",
   "execution_count": 13,
   "id": "1ebc37fc",
   "metadata": {},
   "outputs": [
    {
     "name": "stdout",
     "output_type": "stream",
     "text": [
      "*************** id *******************\n",
      "\n",
      "{0, 1, 2, 3, 4, 5, 6, 7, 8, 9, 10, 11, 12, 13, 14, 15, 16, 17, 18, 19, 20, 21, 22, 23, 24, 25, 26, 27, 28, 29, 30, 31, 32, 33, 34, 35, 36, 37, 38, 39, 40, 41, 42, 43, 44, 45, 46, 47, 48, 49, 50, 51, 52, 53, 54, 55, 56, 57, 58, 59, 60, 61, 62, 63, 64, 65, 66, 67, 68, 69, 70, 71, 72, 73, 74, 75, 76, 77, 78, 79, 80, 81, 82, 83, 84, 85, 86, 87, 88, 89, 90, 91, 92, 93, 94, 95, 96, 97, 98, 99, 100, 101, 102, 103, 104, 105, 106, 107, 108, 109, 110, 111, 112, 113, 114, 115, 116, 117, 118, 119, 120, 121, 122, 123, 124, 125, 126, 127, 128, 129, 130, 131, 132, 133, 134, 135, 136, 137, 138, 139, 140, 141, 142, 143, 144, 145, 146, 147, 148, 149, 150, 151, 152, 153, 154, 155, 156, 157, 158, 159, 160, 161, 162, 163, 164, 165, 166, 167, 168, 169, 170, 171, 172, 173, 174, 175, 176, 177, 178, 179, 180, 181, 182, 183, 184, 185, 186, 187, 188, 189, 190, 191, 192, 193, 194, 195, 196, 197, 198, 199, 200, 201, 202, 203, 204, 205, 206, 207, 208, 209, 210, 211, 212, 213, 214, 215, 216, 217, 218, 219, 220, 221, 222, 223, 224, 225, 226, 227, 228, 229, 230, 231, 232, 233, 234, 235, 236, 237, 238, 239, 240, 241, 242, 243, 244, 245, 246, 247, 248, 249, 250, 251, 252, 253, 254, 255, 256, 257, 258, 259, 260, 261, 262, 263, 264, 265, 266, 267, 268, 269, 270, 271, 272, 273, 274, 275, 276, 277, 278, 279, 280, 281, 282, 283, 284, 285, 286, 287, 288, 289, 290, 291, 292, 293, 294, 295, 296, 297, 298, 299, 300, 301, 302, 303, 304, 305, 306, 307, 308, 309, 310, 311, 312, 313, 314, 315, 316, 317, 318, 319, 320, 321, 322, 323, 324, 325, 326, 327, 328, 329, 330, 331, 332, 333, 334, 335, 336, 337, 338, 339, 340, 341, 342, 343, 344, 345, 346, 347, 348, 349, 350, 351, 352, 353, 354, 355, 356, 357, 358, 359, 360, 361, 362, 363, 364, 365, 366, 367, 368, 369, 370, 371, 372, 373, 374, 375, 376, 377, 378, 379, 380, 381, 382, 383, 384, 385, 386, 387, 388, 389, 390, 391, 392, 393, 394, 395, 396, 397, 398, 399}\n",
      "\n",
      "*************** age *******************\n",
      "\n",
      "{2.0, 3.0, 4.0, 5.0, 6.0, 7.0, 8.0, 11.0, 12.0, 14.0, 15.0, 17.0, 19.0, 20.0, 21.0, 22.0, 23.0, 24.0, 25.0, 26.0, 27.0, 28.0, 29.0, 30.0, 32.0, 33.0, 34.0, 35.0, 36.0, 37.0, 38.0, 39.0, 40.0, 41.0, 42.0, 43.0, 44.0, 45.0, 46.0, 47.0, 48.0, 49.0, 50.0, 51.0, 52.0, 53.0, 54.0, 55.0, 56.0, 57.0, 58.0, 59.0, 60.0, 61.0, 62.0, 63.0, 64.0, 65.0, 66.0, 67.0, 68.0, 69.0, 70.0, 71.0, 72.0, 73.0, 74.0, 75.0, 76.0, 78.0, 79.0, 80.0, 81.0, 82.0, 83.0, 90.0}\n",
      "\n",
      "*************** bp *******************\n",
      "\n",
      "{100.0, 70.0, 140.0, 110.0, 80.0, 50.0, 180.0, 120.0, 90.0, 60.0}\n",
      "\n",
      "*************** sg *******************\n",
      "\n",
      "{1.02, 1.025, 1.005, 1.015, 1.01}\n",
      "\n",
      "*************** al *******************\n",
      "\n",
      "{0.0, 1.0, 2.0, 3.0, 4.0, 5.0}\n",
      "\n",
      "*************** su *******************\n",
      "\n",
      "{0.0, 1.0, 2.0, 3.0, 4.0, 5.0}\n",
      "\n",
      "*************** rbc *******************\n",
      "\n",
      "{'abnormal', 'normal'}\n",
      "\n",
      "*************** pc *******************\n",
      "\n",
      "{'abnormal', 'normal'}\n",
      "\n",
      "*************** pcc *******************\n",
      "\n",
      "{'notpresent', 'present'}\n",
      "\n",
      "*************** ba *******************\n",
      "\n",
      "{'notpresent', 'present'}\n",
      "\n",
      "*************** bgr *******************\n",
      "\n",
      "{22.0, 70.0, 74.0, 75.0, 76.0, 78.0, 79.0, 80.0, 81.0, 82.0, 83.0, 84.0, 85.0, 86.0, 87.0, 88.0, 89.0, 90.0, 91.0, 92.0, 93.0, 94.0, 95.0, 96.0, 97.0, 98.0, 99.0, 100.0, 101.0, 102.0, 103.0, 104.0, 105.0, 106.0, 107.0, 108.0, 109.0, 110.0, 111.0, 112.0, 113.0, 114.0, 115.0, 116.0, 117.0, 118.0, 119.0, 120.0, 121.0, 122.0, 123.0, 124.0, 125.0, 127.0, 128.0, 129.0, 130.0, 131.0, 132.0, 133.0, 134.0, 137.0, 138.0, 139.0, 140.0, 141.0, 143.0, 144.0, 146.0, 148.0, 150.0, 153.0, 156.0, 157.0, 158.0, 159.0, 160.0, 162.0, 163.0, 165.0, 169.0, 171.0, 172.0, 173.0, 176.0, 182.0, 184.0, 192.0, 201.0, 203.0, 204.0, 207.0, 208.0, 210.0, 213.0, 214.0, 215.0, 219.0, 220.0, 224.0, 226.0, 230.0, 233.0, 234.0, 238.0, 239.0, 241.0, 242.0, 246.0, 248.0, 250.0, 251.0, 252.0, 253.0, 255.0, 256.0, 261.0, 263.0, 264.0, 268.0, 269.0, 270.0, 273.0, 280.0, 288.0, 294.0, 295.0, 297.0, 298.0, 303.0, 307.0, 308.0, 309.0, 323.0, 341.0, 352.0, 360.0, 380.0, 410.0, 415.0, 423.0, 424.0, 425.0, 447.0, 463.0, 490.0}\n",
      "\n",
      "*************** bu *******************\n",
      "\n",
      "{1.5, 10.0, 15.0, 16.0, 17.0, 18.0, 19.0, 20.0, 21.0, 22.0, 23.0, 24.0, 25.0, 26.0, 27.0, 28.0, 29.0, 30.0, 31.0, 32.0, 33.0, 34.0, 35.0, 36.0, 37.0, 38.0, 39.0, 40.0, 41.0, 42.0, 44.0, 45.0, 46.0, 47.0, 48.0, 49.0, 50.0, 51.0, 52.0, 53.0, 54.0, 55.0, 56.0, 50.1, 58.0, 57.0, 60.0, 61.0, 64.0, 65.0, 66.0, 67.0, 68.0, 70.0, 71.0, 72.0, 73.0, 74.0, 75.0, 76.0, 77.0, 79.0, 80.0, 82.0, 85.0, 86.0, 87.0, 88.0, 89.0, 90.0, 92.0, 93.0, 94.0, 95.0, 96.0, 98.0, 98.6, 103.0, 106.0, 107.0, 111.0, 113.0, 114.0, 115.0, 118.0, 125.0, 132.0, 133.0, 137.0, 139.0, 142.0, 145.0, 146.0, 148.0, 150.0, 153.0, 155.0, 158.0, 162.0, 163.0, 164.0, 165.0, 166.0, 176.0, 180.0, 186.0, 191.0, 202.0, 208.0, 215.0, 217.0, 219.0, 223.0, 235.0, 241.0, 309.0, 322.0, 391.0}\n",
      "\n",
      "*************** sc *******************\n",
      "\n",
      "{0.8, 1.2, 1.4, 3.8, 1.8, 1.1, 1.9, 7.2, 4.0, 2.7, 2.1, 4.6, 4.1, 9.6, 5.2, 7.7, 7.3, 2.5, 2.0, 10.8, 3.0, 3.25, 15.0, 14.2, 24.0, 16.9, 18.0, 18.1, 1.5, 1.0, 32.0, 6.5, 0.5, 6.0, 7.5, 8.5, 48.1, 11.5, 12.0, 13.0, 13.5, 76.0, 16.4, 2.4, 2.9, 3.9, 3.4, 4.4, 5.9, 6.4, 11.9, 13.4, 2.8, 2.3, 3.3, 4.3, 1.3, 5.3, 6.3, 6.8, 0.6, 0.9, 0.4, 9.7, 9.2, 9.3, 0.7, 10.2, 1.7, 11.8, 12.2, 12.8, 13.8, 13.3, 2.2, 15.2, 3.2, 6.7, 5.6, 6.1, 7.1, 1.6, 2.6, 3.6}\n",
      "\n",
      "*************** sod *******************\n",
      "\n",
      "{128.0, 129.0, 130.0, 131.0, 4.5, 132.0, 133.0, 135.0, 136.0, 134.0, 138.0, 139.0, 140.0, 141.0, 142.0, 137.0, 143.0, 145.0, 146.0, 147.0, 144.0, 150.0, 163.0, 104.0, 111.0, 113.0, 114.0, 115.0, 120.0, 122.0, 124.0, 125.0, 126.0, 127.0}\n",
      "\n",
      "*************** pot *******************\n",
      "\n",
      "{2.5, 3.2, 3.7, 3.5, 4.0, 4.2, 5.8, 3.4, 6.4, 4.9, 4.1, 4.3, 5.2, 6.6, 7.6, 3.0, 4.6, 4.4, 4.5, 5.9, 5.5, 5.0, 5.4, 5.1, 5.6, 6.5, 39.0, 47.0, 3.6, 2.8, 2.7, 3.8, 3.3, 4.7, 4.8, 5.7, 5.3, 6.3, 2.9, 3.9}\n",
      "\n",
      "*************** hemo *******************\n",
      "\n",
      "{3.1, 4.8, 5.6, 6.6, 7.6, 8.4, 7.7, 9.6, 10.8, 11.2, 11.3, 11.6, 12.2, 15.4, 12.4, 9.5, 12.6, 12.1, 12.7, 15.0, 15.6, 15.2, 16.1, 5.5, 6.0, 7.5, 8.0, 8.5, 9.0, 10.0, 10.5, 11.5, 11.0, 12.5, 12.0, 13.0, 13.5, 14.0, 14.5, 15.5, 16.5, 16.4, 16.9, 16.0, 16.6, 17.0, 17.1, 17.4, 17.5, 17.6, 7.9, 9.4, 9.9, 10.9, 10.4, 11.9, 11.4, 12.9, 13.9, 13.4, 14.4, 14.9, 15.9, 5.8, 6.8, 6.3, 7.3, 8.3, 8.2, 8.8, 8.7, 9.7, 9.8, 9.3, 9.2, 10.7, 10.3, 10.2, 11.8, 11.7, 12.3, 12.8, 13.8, 13.2, 13.7, 13.3, 14.3, 14.2, 14.8, 14.7, 15.7, 15.8, 15.3, 16.2, 16.3, 16.7, 16.8, 17.2, 17.3, 17.7, 17.8, 6.2, 6.1, 7.1, 8.6, 8.1, 9.1, 10.1, 10.6, 11.1, 13.6, 13.1, 14.1, 14.6, 15.1}\n",
      "\n",
      "*************** pcv *******************\n",
      "\n",
      "{'52', '46', '51', '47', '18', '48', '14', '26', '22', '28', '24', '\\t?', '23', '41', '45', '38', '54', '35', '31', '37', '29', '42', '32', '44', '43', '53', '17', '27', '33', '9', '34', '21', '49', '15', '25', '40', '20', '30', '16', '39', '36', '50', '19', '\\t43'}\n",
      "\n",
      "*************** wc *******************\n",
      "\n",
      "{'5900', '11900', '11400', '6200', '5000', '5200', '15200', '9800', '9400', '12500', '2200', '16300', '8500', '6900', '9700', '6600', '6500', '5100', '7200', '7900', '10300', '\\t?', '11500', '9900', '13200', '11800', '12100', '4900', '4200', '5600', '7300', '7000', '12800', '11200', '10800', '10900', '9600', '12000', '19100', '15700', '9100', '10200', '12400', '6000', '4300', '8300', '9000', '8100', '5700', '4500', '8800', '7100', '3800', '16700', '26400', '11000', '4700', '5800', '5300', '14600', '8600', '\\t6200', '18900', '11300', '12300', '14900', '7500', '7700', '21600', '9500', '4100', '10400', '6800', '5400', '8200', '6300', '5500', '12700', '12200', '8400', '9200', '10500', '2600', '7800', '9300', '\\t8400', '6700', '6400', '10700', '8000', '13600', '7400'}\n",
      "\n",
      "*************** rc *******************\n",
      "\n",
      "{'6.4', '3.3', '3.5', '4.7', '3.8', '2.1', '2.5', '6.1', '5.3', '3.9', '2.4', '5.8', '3.7', '6.2', '4.3', '2.8', '\\t?', '2.7', '4.2', '2.9', '3', '6.5', '4.9', '2.6', '3.2', '3.0', '4', '5.4', '5.7', '6.3', '4.6', '5', '3.1', '4.4', '5.5', '4.8', '5.9', '4.5', '5.0', '3.6', '4.0', '5.2', '5.1', '6.0', '4.1', '2.3', '3.4', '5.6', '8.0'}\n",
      "\n",
      "*************** htn *******************\n",
      "\n",
      "{'no', 'yes'}\n",
      "\n",
      "*************** dm *******************\n",
      "\n",
      "{'no', '\\tyes', 'yes', '\\tno', ' yes'}\n",
      "\n",
      "*************** cad *******************\n",
      "\n",
      "{'no', '\\tno', 'yes'}\n",
      "\n",
      "*************** appet *******************\n",
      "\n",
      "{'good', 'poor'}\n",
      "\n",
      "*************** pe *******************\n",
      "\n",
      "{'no', 'yes'}\n",
      "\n",
      "*************** ane *******************\n",
      "\n",
      "{'no', 'yes'}\n",
      "\n",
      "*************** classification *******************\n",
      "\n",
      "{'notckd', 'ckd\\t', 'ckd'}\n",
      "\n"
     ]
    }
   ],
   "source": [
    "for i in df_imputer.columns:\n",
    "    print(\"***************\", i, \"*******************\")\n",
    "    print()\n",
    "    print(set(df_imputer[i].tolist()))\n",
    "    print()"
   ]
  },
  {
   "cell_type": "code",
   "execution_count": 14,
   "id": "1a804a93",
   "metadata": {},
   "outputs": [
    {
     "name": "stdout",
     "output_type": "stream",
     "text": [
      "0    5.2\n",
      "Name: rc, dtype: object\n",
      "0    9800\n",
      "Name: wc, dtype: object\n",
      "0    41\n",
      "Name: pcv, dtype: object\n"
     ]
    }
   ],
   "source": [
    "print(df_imputer['rc'].mode())\n",
    "print(df_imputer['wc'].mode())\n",
    "print(df_imputer['pcv'].mode())"
   ]
  },
  {
   "cell_type": "code",
   "execution_count": 15,
   "id": "a2b2e2a7",
   "metadata": {},
   "outputs": [],
   "source": [
    "df_imputer['classification'] = df_imputer['classification'].apply(lambda x:'ckd' if x == 'ckd\\t' else x)\n",
    "\n",
    "df_imputer['cad'] = df_imputer['cad'].apply(lambda x:'no' if x == '\\tno' else x)\n",
    "\n",
    "df_imputer['dm'] = df_imputer['dm'].apply(lambda x:'no' if x == '\\tno' else x)\n",
    "df_imputer['dm'] = df_imputer['dm'].apply(lambda x:'yes' if x == '\\tyes' else x)\n",
    "df_imputer['dm'] = df_imputer['dm'].apply(lambda x:'yes' if x == 'yes' else x)\n",
    "\n",
    "df_imputer['rc'] = df_imputer['rc'].apply(lambda x:'5.2' if x == '\\t?' else x)\n",
    "\n",
    "df_imputer['wc'] = df_imputer['wc'].apply(lambda x:'9800' if x == '\\t6200' else x)\n",
    "df_imputer['wc'] = df_imputer['wc'].apply(lambda x:'9800' if x == '\\t8400' else x)\n",
    "df_imputer['wc'] = df_imputer['wc'].apply(lambda x:'9800' if x == '\\t?' else x)\n",
    "\n",
    "df_imputer['pcv'] = df_imputer['pcv'].apply(lambda x:'41' if x == '\\t43' else x)\n",
    "df_imputer['pcv'] = df_imputer['pcv'].apply(lambda x:'41' if x == '\\t?' else x)\n"
   ]
  },
  {
   "cell_type": "code",
   "execution_count": 16,
   "id": "d23b3243",
   "metadata": {},
   "outputs": [
    {
     "name": "stdout",
     "output_type": "stream",
     "text": [
      "*************** id *******************\n",
      "\n",
      "{0, 1, 2, 3, 4, 5, 6, 7, 8, 9, 10, 11, 12, 13, 14, 15, 16, 17, 18, 19, 20, 21, 22, 23, 24, 25, 26, 27, 28, 29, 30, 31, 32, 33, 34, 35, 36, 37, 38, 39, 40, 41, 42, 43, 44, 45, 46, 47, 48, 49, 50, 51, 52, 53, 54, 55, 56, 57, 58, 59, 60, 61, 62, 63, 64, 65, 66, 67, 68, 69, 70, 71, 72, 73, 74, 75, 76, 77, 78, 79, 80, 81, 82, 83, 84, 85, 86, 87, 88, 89, 90, 91, 92, 93, 94, 95, 96, 97, 98, 99, 100, 101, 102, 103, 104, 105, 106, 107, 108, 109, 110, 111, 112, 113, 114, 115, 116, 117, 118, 119, 120, 121, 122, 123, 124, 125, 126, 127, 128, 129, 130, 131, 132, 133, 134, 135, 136, 137, 138, 139, 140, 141, 142, 143, 144, 145, 146, 147, 148, 149, 150, 151, 152, 153, 154, 155, 156, 157, 158, 159, 160, 161, 162, 163, 164, 165, 166, 167, 168, 169, 170, 171, 172, 173, 174, 175, 176, 177, 178, 179, 180, 181, 182, 183, 184, 185, 186, 187, 188, 189, 190, 191, 192, 193, 194, 195, 196, 197, 198, 199, 200, 201, 202, 203, 204, 205, 206, 207, 208, 209, 210, 211, 212, 213, 214, 215, 216, 217, 218, 219, 220, 221, 222, 223, 224, 225, 226, 227, 228, 229, 230, 231, 232, 233, 234, 235, 236, 237, 238, 239, 240, 241, 242, 243, 244, 245, 246, 247, 248, 249, 250, 251, 252, 253, 254, 255, 256, 257, 258, 259, 260, 261, 262, 263, 264, 265, 266, 267, 268, 269, 270, 271, 272, 273, 274, 275, 276, 277, 278, 279, 280, 281, 282, 283, 284, 285, 286, 287, 288, 289, 290, 291, 292, 293, 294, 295, 296, 297, 298, 299, 300, 301, 302, 303, 304, 305, 306, 307, 308, 309, 310, 311, 312, 313, 314, 315, 316, 317, 318, 319, 320, 321, 322, 323, 324, 325, 326, 327, 328, 329, 330, 331, 332, 333, 334, 335, 336, 337, 338, 339, 340, 341, 342, 343, 344, 345, 346, 347, 348, 349, 350, 351, 352, 353, 354, 355, 356, 357, 358, 359, 360, 361, 362, 363, 364, 365, 366, 367, 368, 369, 370, 371, 372, 373, 374, 375, 376, 377, 378, 379, 380, 381, 382, 383, 384, 385, 386, 387, 388, 389, 390, 391, 392, 393, 394, 395, 396, 397, 398, 399}\n",
      "\n",
      "*************** age *******************\n",
      "\n",
      "{2.0, 3.0, 4.0, 5.0, 6.0, 7.0, 8.0, 11.0, 12.0, 14.0, 15.0, 17.0, 19.0, 20.0, 21.0, 22.0, 23.0, 24.0, 25.0, 26.0, 27.0, 28.0, 29.0, 30.0, 32.0, 33.0, 34.0, 35.0, 36.0, 37.0, 38.0, 39.0, 40.0, 41.0, 42.0, 43.0, 44.0, 45.0, 46.0, 47.0, 48.0, 49.0, 50.0, 51.0, 52.0, 53.0, 54.0, 55.0, 56.0, 57.0, 58.0, 59.0, 60.0, 61.0, 62.0, 63.0, 64.0, 65.0, 66.0, 67.0, 68.0, 69.0, 70.0, 71.0, 72.0, 73.0, 74.0, 75.0, 76.0, 78.0, 79.0, 80.0, 81.0, 82.0, 83.0, 90.0}\n",
      "\n",
      "*************** bp *******************\n",
      "\n",
      "{100.0, 70.0, 140.0, 110.0, 80.0, 50.0, 180.0, 120.0, 90.0, 60.0}\n",
      "\n",
      "*************** sg *******************\n",
      "\n",
      "{1.02, 1.025, 1.005, 1.015, 1.01}\n",
      "\n",
      "*************** al *******************\n",
      "\n",
      "{0.0, 1.0, 2.0, 3.0, 4.0, 5.0}\n",
      "\n",
      "*************** su *******************\n",
      "\n",
      "{0.0, 1.0, 2.0, 3.0, 4.0, 5.0}\n",
      "\n",
      "*************** rbc *******************\n",
      "\n",
      "{'abnormal', 'normal'}\n",
      "\n",
      "*************** pc *******************\n",
      "\n",
      "{'abnormal', 'normal'}\n",
      "\n",
      "*************** pcc *******************\n",
      "\n",
      "{'notpresent', 'present'}\n",
      "\n",
      "*************** ba *******************\n",
      "\n",
      "{'notpresent', 'present'}\n",
      "\n",
      "*************** bgr *******************\n",
      "\n",
      "{22.0, 70.0, 74.0, 75.0, 76.0, 78.0, 79.0, 80.0, 81.0, 82.0, 83.0, 84.0, 85.0, 86.0, 87.0, 88.0, 89.0, 90.0, 91.0, 92.0, 93.0, 94.0, 95.0, 96.0, 97.0, 98.0, 99.0, 100.0, 101.0, 102.0, 103.0, 104.0, 105.0, 106.0, 107.0, 108.0, 109.0, 110.0, 111.0, 112.0, 113.0, 114.0, 115.0, 116.0, 117.0, 118.0, 119.0, 120.0, 121.0, 122.0, 123.0, 124.0, 125.0, 127.0, 128.0, 129.0, 130.0, 131.0, 132.0, 133.0, 134.0, 137.0, 138.0, 139.0, 140.0, 141.0, 143.0, 144.0, 146.0, 148.0, 150.0, 153.0, 156.0, 157.0, 158.0, 159.0, 160.0, 162.0, 163.0, 165.0, 169.0, 171.0, 172.0, 173.0, 176.0, 182.0, 184.0, 192.0, 201.0, 203.0, 204.0, 207.0, 208.0, 210.0, 213.0, 214.0, 215.0, 219.0, 220.0, 224.0, 226.0, 230.0, 233.0, 234.0, 238.0, 239.0, 241.0, 242.0, 246.0, 248.0, 250.0, 251.0, 252.0, 253.0, 255.0, 256.0, 261.0, 263.0, 264.0, 268.0, 269.0, 270.0, 273.0, 280.0, 288.0, 294.0, 295.0, 297.0, 298.0, 303.0, 307.0, 308.0, 309.0, 323.0, 341.0, 352.0, 360.0, 380.0, 410.0, 415.0, 423.0, 424.0, 425.0, 447.0, 463.0, 490.0}\n",
      "\n",
      "*************** bu *******************\n",
      "\n",
      "{1.5, 10.0, 15.0, 16.0, 17.0, 18.0, 19.0, 20.0, 21.0, 22.0, 23.0, 24.0, 25.0, 26.0, 27.0, 28.0, 29.0, 30.0, 31.0, 32.0, 33.0, 34.0, 35.0, 36.0, 37.0, 38.0, 39.0, 40.0, 41.0, 42.0, 44.0, 45.0, 46.0, 47.0, 48.0, 49.0, 50.0, 51.0, 52.0, 53.0, 54.0, 55.0, 56.0, 50.1, 58.0, 57.0, 60.0, 61.0, 64.0, 65.0, 66.0, 67.0, 68.0, 70.0, 71.0, 72.0, 73.0, 74.0, 75.0, 76.0, 77.0, 79.0, 80.0, 82.0, 85.0, 86.0, 87.0, 88.0, 89.0, 90.0, 92.0, 93.0, 94.0, 95.0, 96.0, 98.0, 98.6, 103.0, 106.0, 107.0, 111.0, 113.0, 114.0, 115.0, 118.0, 125.0, 132.0, 133.0, 137.0, 139.0, 142.0, 145.0, 146.0, 148.0, 150.0, 153.0, 155.0, 158.0, 162.0, 163.0, 164.0, 165.0, 166.0, 176.0, 180.0, 186.0, 191.0, 202.0, 208.0, 215.0, 217.0, 219.0, 223.0, 235.0, 241.0, 309.0, 322.0, 391.0}\n",
      "\n",
      "*************** sc *******************\n",
      "\n",
      "{0.8, 1.2, 1.4, 3.8, 1.8, 1.1, 1.9, 7.2, 4.0, 2.7, 2.1, 4.6, 4.1, 9.6, 5.2, 7.7, 7.3, 2.5, 2.0, 10.8, 3.0, 3.25, 15.0, 14.2, 24.0, 16.9, 18.0, 18.1, 1.5, 1.0, 32.0, 6.5, 0.5, 6.0, 7.5, 8.5, 48.1, 11.5, 12.0, 13.0, 13.5, 76.0, 16.4, 2.4, 2.9, 3.9, 3.4, 4.4, 5.9, 6.4, 11.9, 13.4, 2.8, 2.3, 3.3, 4.3, 1.3, 5.3, 6.3, 6.8, 0.6, 0.9, 0.4, 9.7, 9.2, 9.3, 0.7, 10.2, 1.7, 11.8, 12.2, 12.8, 13.8, 13.3, 2.2, 15.2, 3.2, 6.7, 5.6, 6.1, 7.1, 1.6, 2.6, 3.6}\n",
      "\n",
      "*************** sod *******************\n",
      "\n",
      "{128.0, 129.0, 130.0, 131.0, 4.5, 132.0, 133.0, 135.0, 136.0, 134.0, 138.0, 139.0, 140.0, 141.0, 142.0, 137.0, 143.0, 145.0, 146.0, 147.0, 144.0, 150.0, 163.0, 104.0, 111.0, 113.0, 114.0, 115.0, 120.0, 122.0, 124.0, 125.0, 126.0, 127.0}\n",
      "\n",
      "*************** pot *******************\n",
      "\n",
      "{2.5, 3.2, 3.7, 3.5, 4.0, 4.2, 5.8, 3.4, 6.4, 4.9, 4.1, 4.3, 5.2, 6.6, 7.6, 3.0, 4.6, 4.4, 4.5, 5.9, 5.5, 5.0, 5.4, 5.1, 5.6, 6.5, 39.0, 47.0, 3.6, 2.8, 2.7, 3.8, 3.3, 4.7, 4.8, 5.7, 5.3, 6.3, 2.9, 3.9}\n",
      "\n",
      "*************** hemo *******************\n",
      "\n",
      "{3.1, 4.8, 5.6, 6.6, 7.6, 8.4, 7.7, 9.6, 10.8, 11.2, 11.3, 11.6, 12.2, 15.4, 12.4, 9.5, 12.6, 12.1, 12.7, 15.0, 15.6, 15.2, 16.1, 5.5, 6.0, 7.5, 8.0, 8.5, 9.0, 10.0, 10.5, 11.5, 11.0, 12.5, 12.0, 13.0, 13.5, 14.0, 14.5, 15.5, 16.5, 16.4, 16.9, 16.0, 16.6, 17.0, 17.1, 17.4, 17.5, 17.6, 7.9, 9.4, 9.9, 10.9, 10.4, 11.9, 11.4, 12.9, 13.9, 13.4, 14.4, 14.9, 15.9, 5.8, 6.8, 6.3, 7.3, 8.3, 8.2, 8.8, 8.7, 9.7, 9.8, 9.3, 9.2, 10.7, 10.3, 10.2, 11.8, 11.7, 12.3, 12.8, 13.8, 13.2, 13.7, 13.3, 14.3, 14.2, 14.8, 14.7, 15.7, 15.8, 15.3, 16.2, 16.3, 16.7, 16.8, 17.2, 17.3, 17.7, 17.8, 6.2, 6.1, 7.1, 8.6, 8.1, 9.1, 10.1, 10.6, 11.1, 13.6, 13.1, 14.1, 14.6, 15.1}\n",
      "\n",
      "*************** pcv *******************\n",
      "\n",
      "{'52', '46', '51', '47', '18', '48', '14', '26', '22', '28', '24', '23', '41', '45', '38', '54', '35', '31', '37', '29', '42', '32', '44', '43', '53', '17', '27', '33', '9', '34', '21', '49', '15', '25', '40', '20', '30', '16', '39', '36', '50', '19'}\n",
      "\n",
      "*************** wc *******************\n",
      "\n",
      "{'5900', '11900', '11400', '6200', '5000', '5200', '15200', '9800', '9400', '12500', '2200', '16300', '8500', '6900', '9700', '6600', '6500', '5100', '7200', '7900', '10300', '11500', '9900', '13200', '11800', '12100', '4900', '4200', '5600', '7300', '7000', '12800', '11200', '10800', '10900', '9600', '12000', '19100', '15700', '9100', '10200', '12400', '6000', '4300', '8300', '9000', '8100', '5700', '4500', '8800', '7100', '3800', '16700', '26400', '11000', '4700', '5800', '5300', '14600', '8600', '18900', '11300', '12300', '14900', '7500', '7700', '21600', '9500', '4100', '10400', '6800', '5400', '8200', '6300', '5500', '12700', '12200', '8400', '9200', '10500', '2600', '7800', '9300', '6700', '6400', '10700', '8000', '13600', '7400'}\n",
      "\n",
      "*************** rc *******************\n",
      "\n",
      "{'6.4', '3.3', '3.5', '4.7', '3.8', '2.1', '2.5', '6.1', '5.3', '3.9', '2.4', '5.8', '3.7', '6.2', '4.3', '2.8', '2.7', '4.2', '2.9', '3', '6.5', '4.9', '2.6', '3.2', '3.0', '4', '5.4', '5.7', '6.3', '4.6', '5', '3.1', '4.4', '5.5', '4.8', '5.9', '4.5', '5.0', '3.6', '4.0', '5.2', '5.1', '6.0', '4.1', '2.3', '3.4', '5.6', '8.0'}\n",
      "\n",
      "*************** htn *******************\n",
      "\n",
      "{'no', 'yes'}\n",
      "\n",
      "*************** dm *******************\n",
      "\n",
      "{'no', ' yes', 'yes'}\n",
      "\n",
      "*************** cad *******************\n",
      "\n",
      "{'no', 'yes'}\n",
      "\n",
      "*************** appet *******************\n",
      "\n",
      "{'good', 'poor'}\n",
      "\n",
      "*************** pe *******************\n",
      "\n",
      "{'no', 'yes'}\n",
      "\n",
      "*************** ane *******************\n",
      "\n",
      "{'no', 'yes'}\n",
      "\n",
      "*************** classification *******************\n",
      "\n",
      "{'notckd', 'ckd'}\n",
      "\n"
     ]
    }
   ],
   "source": [
    "for i in df_imputer.columns:\n",
    "    print(\"***************\", i, \"*******************\")\n",
    "    print()\n",
    "    print(set(df_imputer[i].tolist()))\n",
    "    print()"
   ]
  },
  {
   "cell_type": "code",
   "execution_count": 17,
   "id": "e5489168",
   "metadata": {},
   "outputs": [
    {
     "data": {
      "text/plain": [
       "classification\n",
       "ckd       250\n",
       "notckd    150\n",
       "Name: count, dtype: int64"
      ]
     },
     "execution_count": 17,
     "metadata": {},
     "output_type": "execute_result"
    }
   ],
   "source": [
    "df_imputer['classification'].value_counts()"
   ]
  },
  {
   "cell_type": "code",
   "execution_count": 18,
   "id": "1920d2ef",
   "metadata": {},
   "outputs": [
    {
     "name": "stdout",
     "output_type": "stream",
     "text": [
      "Axes(0.125,0.11;0.775x0.77)\n"
     ]
    },
    {
     "data": {
      "image/png": "[encoded data removed]",
      "text/plain": [
       "<Figure size 640x480 with 1 Axes>"
      ]
     },
     "metadata": {},
     "output_type": "display_data"
    }
   ],
   "source": [
    "temp = df_imputer['classification'].value_counts()\n",
    "temp_df = pd.DataFrame({'classification': temp.index, 'values':temp.values})\n",
    "print(sns.barplot(x = 'classification', y = 'values', data =temp_df ))\n",
    "# Implanced data"
   ]
  },
  {
   "cell_type": "code",
   "execution_count": 19,
   "id": "5abe61e0",
   "metadata": {},
   "outputs": [
    {
     "data": {
      "text/plain": [
       "id                  int64\n",
       "age               float64\n",
       "bp                float64\n",
       "sg                float64\n",
       "al                float64\n",
       "su                float64\n",
       "rbc                object\n",
       "pc                 object\n",
       "pcc                object\n",
       "ba                 object\n",
       "bgr               float64\n",
       "bu                float64\n",
       "sc                float64\n",
       "sod               float64\n",
       "pot               float64\n",
       "hemo              float64\n",
       "pcv                object\n",
       "wc                 object\n",
       "rc                 object\n",
       "htn                object\n",
       "dm                 object\n",
       "cad                object\n",
       "appet              object\n",
       "pe                 object\n",
       "ane                object\n",
       "classification     object\n",
       "dtype: object"
      ]
     },
     "execution_count": 19,
     "metadata": {},
     "output_type": "execute_result"
    }
   ],
   "source": [
    "df.dtypes"
   ]
  },
  {
   "cell_type": "code",
   "execution_count": 20,
   "id": "42326b04",
   "metadata": {},
   "outputs": [
    {
     "data": {
      "text/plain": [
       "id                object\n",
       "age               object\n",
       "bp                object\n",
       "sg                object\n",
       "al                object\n",
       "su                object\n",
       "rbc               object\n",
       "pc                object\n",
       "pcc               object\n",
       "ba                object\n",
       "bgr               object\n",
       "bu                object\n",
       "sc                object\n",
       "sod               object\n",
       "pot               object\n",
       "hemo              object\n",
       "pcv               object\n",
       "wc                object\n",
       "rc                object\n",
       "htn               object\n",
       "dm                object\n",
       "cad               object\n",
       "appet             object\n",
       "pe                object\n",
       "ane               object\n",
       "classification    object\n",
       "dtype: object"
      ]
     },
     "execution_count": 20,
     "metadata": {},
     "output_type": "execute_result"
    }
   ],
   "source": [
    "df_imputer.dtypes"
   ]
  },
  {
   "cell_type": "code",
   "execution_count": 21,
   "id": "b24bbeb0",
   "metadata": {},
   "outputs": [
    {
     "data": {
      "text/plain": [
       "Index(['id', 'age', 'bp', 'sg', 'al', 'su', 'bgr', 'bu', 'sc', 'sod', 'pot',\n",
       "       'hemo'],\n",
       "      dtype='object')"
      ]
     },
     "execution_count": 21,
     "metadata": {},
     "output_type": "execute_result"
    }
   ],
   "source": [
    "df.select_dtypes(exclude = ['object']).columns"
   ]
  },
  {
   "cell_type": "code",
   "execution_count": 22,
   "id": "0742a404",
   "metadata": {},
   "outputs": [],
   "source": [
    "for i in df.select_dtypes(exclude = ['object']).columns:\n",
    "    df_imputer[i] = df_imputer[i].apply(lambda x: float(x))"
   ]
  },
  {
   "cell_type": "code",
   "execution_count": 23,
   "id": "6fc77003",
   "metadata": {},
   "outputs": [
    {
     "data": {
      "text/plain": [
       "id                float64\n",
       "age               float64\n",
       "bp                float64\n",
       "sg                float64\n",
       "al                float64\n",
       "su                float64\n",
       "rbc                object\n",
       "pc                 object\n",
       "pcc                object\n",
       "ba                 object\n",
       "bgr               float64\n",
       "bu                float64\n",
       "sc                float64\n",
       "sod               float64\n",
       "pot               float64\n",
       "hemo              float64\n",
       "pcv                object\n",
       "wc                 object\n",
       "rc                 object\n",
       "htn                object\n",
       "dm                 object\n",
       "cad                object\n",
       "appet              object\n",
       "pe                 object\n",
       "ane                object\n",
       "classification     object\n",
       "dtype: object"
      ]
     },
     "execution_count": 23,
     "metadata": {},
     "output_type": "execute_result"
    }
   ],
   "source": [
    "df_imputer.dtypes"
   ]
  },
  {
   "cell_type": "code",
   "execution_count": null,
   "id": "fc4f2252",
   "metadata": {
    "scrolled": true
   },
   "outputs": [],
   "source": [
    "sns.pairplot(df_imputer)"
   ]
  },
  {
   "cell_type": "code",
   "execution_count": null,
   "id": "e32b3d70",
   "metadata": {},
   "outputs": [],
   "source": [
    "def distplots(col):\n",
    "    sns.displot(df[col])\n",
    "    plt.show()\n",
    "    \n",
    "for i in list(df_imputer.select_dtypes(exclude = ['object']).columns)[1:]:\n",
    "    distplots(i)"
   ]
  },
  {
   "cell_type": "code",
   "execution_count": null,
   "id": "eef945e7",
   "metadata": {},
   "outputs": [],
   "source": [
    "# outliers Detection & remove\n",
    "def boxf(col):\n",
    "    sns.boxplot(df[col])\n",
    "    plt.show()\n",
    "    \n",
    "\n",
    "for i in list(df_imputer.select_dtypes(exclude = ['object']).columns)[1:]:\n",
    "    boxf(i)"
   ]
  },
  {
   "cell_type": "code",
   "execution_count": null,
   "id": "70bcae02",
   "metadata": {},
   "outputs": [],
   "source": [
    "df_imputer.head()"
   ]
  },
  {
   "cell_type": "code",
   "execution_count": null,
   "id": "d40237f1",
   "metadata": {},
   "outputs": [],
   "source": [
    "from sklearn import preprocessing"
   ]
  },
  {
   "cell_type": "code",
   "execution_count": null,
   "id": "29f04a0c",
   "metadata": {},
   "outputs": [],
   "source": [
    "encode = df_imputer.apply(preprocessing.LabelEncoder().fit_transform)\n",
    "encode"
   ]
  },
  {
   "cell_type": "code",
   "execution_count": null,
   "id": "1d040966",
   "metadata": {},
   "outputs": [],
   "source": [
    "encode.to_csv(\"Final_pre_processing_data.csv\")"
   ]
  },
  {
   "cell_type": "code",
   "execution_count": null,
   "id": "1665baf4",
   "metadata": {
    "scrolled": true
   },
   "outputs": [],
   "source": [
    "plt.figure(figsize=(20,20))\n",
    "corr = encode.corr()\n",
    "sns.heatmap(corr, annot = True)"
   ]
  },
  {
   "cell_type": "code",
   "execution_count": null,
   "id": "b5eea5d2",
   "metadata": {},
   "outputs": [],
   "source": [
    "df.columns"
   ]
  },
  {
   "cell_type": "code",
   "execution_count": null,
   "id": "fece710c",
   "metadata": {},
   "outputs": [],
   "source": [
    "x = encode.drop(['id', 'classification'], axis = 1)\n",
    "y = encode['classification']"
   ]
  },
  {
   "cell_type": "code",
   "execution_count": null,
   "id": "2f8157e2",
   "metadata": {},
   "outputs": [],
   "source": [
    "x"
   ]
  },
  {
   "cell_type": "code",
   "execution_count": null,
   "id": "e6a5a019",
   "metadata": {},
   "outputs": [],
   "source": [
    "y"
   ]
  },
  {
   "cell_type": "code",
   "execution_count": null,
   "id": "de11115a",
   "metadata": {},
   "outputs": [],
   "source": [
    "from imblearn.over_sampling import RandomOverSampler\n",
    "from imblearn.under_sampling import RandomUnderSampler\n",
    "from collections import Counter"
   ]
  },
  {
   "cell_type": "code",
   "execution_count": null,
   "id": "4b5543d1",
   "metadata": {},
   "outputs": [],
   "source": [
    "print(Counter(y))"
   ]
  },
  {
   "cell_type": "code",
   "execution_count": null,
   "id": "264846a8",
   "metadata": {},
   "outputs": [],
   "source": [
    "ros = RandomOverSampler()\n",
    "X_ros, y_ros = ros.fit_resample(x, y)\n",
    "print(Counter(y_ros))"
   ]
  },
  {
   "cell_type": "code",
   "execution_count": null,
   "id": "ca41a23b",
   "metadata": {},
   "outputs": [],
   "source": [
    "from sklearn.preprocessing import MinMaxScaler"
   ]
  },
  {
   "cell_type": "code",
   "execution_count": null,
   "id": "1a87ee49",
   "metadata": {},
   "outputs": [],
   "source": [
    "scaler = MinMaxScaler((-1, 1))\n",
    "x = scaler.fit_transform(X_ros)\n",
    "y = y_ros"
   ]
  },
  {
   "cell_type": "code",
   "execution_count": null,
   "id": "55568199",
   "metadata": {},
   "outputs": [],
   "source": [
    "x"
   ]
  },
  {
   "cell_type": "code",
   "execution_count": null,
   "id": "4323d828",
   "metadata": {},
   "outputs": [],
   "source": [
    "df.shape # 24"
   ]
  },
  {
   "cell_type": "code",
   "execution_count": null,
   "id": "21344764",
   "metadata": {},
   "outputs": [],
   "source": [
    "from sklearn.decomposition import PCA"
   ]
  },
  {
   "cell_type": "code",
   "execution_count": null,
   "id": "40b9bd13",
   "metadata": {},
   "outputs": [],
   "source": [
    "pca = PCA(.95)\n",
    "X_PCA = pca.fit_transform(x)"
   ]
  },
  {
   "cell_type": "code",
   "execution_count": null,
   "id": "ea8f4d7c",
   "metadata": {},
   "outputs": [],
   "source": [
    "print(x.shape)\n",
    "print(X_PCA.shape)"
   ]
  },
  {
   "cell_type": "code",
   "execution_count": null,
   "id": "655477ce",
   "metadata": {},
   "outputs": [],
   "source": [
    "from sklearn.model_selection import train_test_split"
   ]
  },
  {
   "cell_type": "code",
   "execution_count": null,
   "id": "347b47a2",
   "metadata": {},
   "outputs": [],
   "source": [
    "x_train, x_test , y_train, y_test = train_test_split(X_PCA, y, test_size = 0.2, random_state = 7)"
   ]
  },
  {
   "cell_type": "code",
   "execution_count": null,
   "id": "20a4ee0f",
   "metadata": {},
   "outputs": [],
   "source": [
    "x_train"
   ]
  },
  {
   "cell_type": "code",
   "execution_count": null,
   "id": "d1628621",
   "metadata": {},
   "outputs": [],
   "source": [
    "x_test"
   ]
  },
  {
   "cell_type": "code",
   "execution_count": null,
   "id": "b44d5ad2",
   "metadata": {},
   "outputs": [],
   "source": [
    "y_train.shape"
   ]
  },
  {
   "cell_type": "code",
   "execution_count": null,
   "id": "6c1a75cc",
   "metadata": {},
   "outputs": [],
   "source": [
    "y_test.shape"
   ]
  },
  {
   "cell_type": "markdown",
   "id": "4b2ddb31",
   "metadata": {},
   "source": [
    "# Neural Network"
   ]
  },
  {
   "cell_type": "code",
   "execution_count": 62,
   "id": "1feea133",
   "metadata": {},
   "outputs": [],
   "source": [
    "import keras\n",
    "from keras.models import Sequential\n",
    "from keras.layers import Dense\n",
    "from keras.layers import Dropout\n",
    "from keras.callbacks import ModelCheckpoint, EarlyStopping\n",
    "from keras.models import Sequential, Model\n",
    "from keras.optimizers import Adam\n"
   ]
  },
  {
   "cell_type": "code",
   "execution_count": 63,
   "id": "bbd4de59",
   "metadata": {},
   "outputs": [
    {
     "data": {
      "text/plain": [
       "18"
      ]
     },
     "execution_count": 63,
     "metadata": {},
     "output_type": "execute_result"
    }
   ],
   "source": [
    "x_train.shape[1]"
   ]
  },
  {
   "cell_type": "code",
   "execution_count": 78,
   "id": "daf0081f",
   "metadata": {},
   "outputs": [],
   "source": [
    "def model():\n",
    "    clf = Sequential()\n",
    "    clf.add(Dense(15, input_shape = (x_train.shape[1],), activation = 'relu'))\n",
    "    clf.add(Dropout(0.2))\n",
    "    clf.add(Dense(15,activation = 'relu' ))\n",
    "    clf.add(Dropout(0.4))\n",
    "    clf.add(Dense(1, activation = 'sigmoid'))\n",
    "    clf.compile(optimizer = 'adam', loss = 'binary_crossentropy', metrics = ['accuracy'])\n",
    "    \n",
    "    return clf\n",
    "    "
   ]
  },
  {
   "cell_type": "code",
   "execution_count": 79,
   "id": "e620d4c4",
   "metadata": {},
   "outputs": [],
   "source": [
    "model = model()"
   ]
  },
  {
   "cell_type": "code",
   "execution_count": 80,
   "id": "4fd66d63",
   "metadata": {},
   "outputs": [
    {
     "name": "stdout",
     "output_type": "stream",
     "text": [
      "Model: \"sequential_7\"\n",
      "_________________________________________________________________\n",
      "Layer (type)                 Output Shape              Param #   \n",
      "=================================================================\n",
      "dense_14 (Dense)             (None, 15)                285       \n",
      "_________________________________________________________________\n",
      "dropout_7 (Dropout)          (None, 15)                0         \n",
      "_________________________________________________________________\n",
      "dense_15 (Dense)             (None, 15)                240       \n",
      "_________________________________________________________________\n",
      "dropout_8 (Dropout)          (None, 15)                0         \n",
      "_________________________________________________________________\n",
      "dense_16 (Dense)             (None, 1)                 16        \n",
      "=================================================================\n",
      "Total params: 541\n",
      "Trainable params: 541\n",
      "Non-trainable params: 0\n",
      "_________________________________________________________________\n"
     ]
    }
   ],
   "source": [
    "model.summary()"
   ]
  },
  {
   "cell_type": "code",
   "execution_count": 167,
   "id": "d60aceb0",
   "metadata": {
    "scrolled": true
   },
   "outputs": [
    {
     "name": "stdout",
     "output_type": "stream",
     "text": [
      "Epoch 1/20\n",
      "13/13 [==============================] - 0s 18ms/step - loss: 0.0045 - accuracy: 0.9975 - val_loss: 0.0549 - val_accuracy: 0.9900\n",
      "Epoch 2/20\n",
      "13/13 [==============================] - 0s 9ms/step - loss: 0.0031 - accuracy: 1.0000 - val_loss: 0.0562 - val_accuracy: 0.9900\n",
      "Epoch 3/20\n",
      "13/13 [==============================] - 0s 9ms/step - loss: 0.0014 - accuracy: 1.0000 - val_loss: 0.0568 - val_accuracy: 0.9900\n",
      "Epoch 4/20\n",
      "13/13 [==============================] - 0s 8ms/step - loss: 0.0010 - accuracy: 1.0000 - val_loss: 0.0573 - val_accuracy: 0.9900\n",
      "Epoch 5/20\n",
      "13/13 [==============================] - 0s 9ms/step - loss: 0.0037 - accuracy: 1.0000 - val_loss: 0.0579 - val_accuracy: 0.9800\n",
      "Epoch 6/20\n",
      "13/13 [==============================] - 0s 8ms/step - loss: 0.0010 - accuracy: 1.0000 - val_loss: 0.0585 - val_accuracy: 0.9800\n",
      "Epoch 7/20\n",
      "13/13 [==============================] - 0s 9ms/step - loss: 0.0026 - accuracy: 1.0000 - val_loss: 0.0584 - val_accuracy: 0.9900\n",
      "Epoch 8/20\n",
      "13/13 [==============================] - 0s 9ms/step - loss: 0.0023 - accuracy: 1.0000 - val_loss: 0.0581 - val_accuracy: 0.9900\n",
      "Epoch 9/20\n",
      "13/13 [==============================] - 0s 8ms/step - loss: 0.0017 - accuracy: 1.0000 - val_loss: 0.0582 - val_accuracy: 0.9900\n",
      "Epoch 10/20\n",
      "13/13 [==============================] - 0s 8ms/step - loss: 0.0080 - accuracy: 0.9975 - val_loss: 0.0587 - val_accuracy: 0.9900\n",
      "Epoch 11/20\n",
      "13/13 [==============================] - 0s 7ms/step - loss: 0.0014 - accuracy: 1.0000 - val_loss: 0.0593 - val_accuracy: 0.9900\n",
      "Epoch 12/20\n",
      "13/13 [==============================] - 0s 6ms/step - loss: 0.0036 - accuracy: 1.0000 - val_loss: 0.0594 - val_accuracy: 0.9900\n",
      "Epoch 13/20\n",
      "13/13 [==============================] - 0s 7ms/step - loss: 0.0016 - accuracy: 1.0000 - val_loss: 0.0595 - val_accuracy: 0.9900\n",
      "Epoch 14/20\n",
      "13/13 [==============================] - 0s 7ms/step - loss: 0.0026 - accuracy: 1.0000 - val_loss: 0.0590 - val_accuracy: 0.9900\n",
      "Epoch 15/20\n",
      "13/13 [==============================] - 0s 6ms/step - loss: 0.0012 - accuracy: 1.0000 - val_loss: 0.0571 - val_accuracy: 0.9900\n",
      "Epoch 16/20\n",
      "13/13 [==============================] - 0s 7ms/step - loss: 0.0051 - accuracy: 0.9975 - val_loss: 0.0572 - val_accuracy: 0.9900\n",
      "Epoch 17/20\n",
      "13/13 [==============================] - 0s 6ms/step - loss: 0.0046 - accuracy: 0.9975 - val_loss: 0.0587 - val_accuracy: 0.9900\n",
      "Epoch 18/20\n",
      "13/13 [==============================] - 0s 8ms/step - loss: 0.0053 - accuracy: 0.9975 - val_loss: 0.0596 - val_accuracy: 0.9900\n",
      "Epoch 19/20\n",
      "13/13 [==============================] - 0s 7ms/step - loss: 0.0039 - accuracy: 1.0000 - val_loss: 0.0603 - val_accuracy: 0.9900\n",
      "Epoch 20/20\n",
      "13/13 [==============================] - 0s 9ms/step - loss: 0.0030 - accuracy: 1.0000 - val_loss: 0.0612 - val_accuracy: 0.9900\n"
     ]
    }
   ],
   "source": [
    "history = model.fit(x_train, y_train, validation_data = (x_test, y_test), epochs = 20, verbose = 1)"
   ]
  },
  {
   "cell_type": "code",
   "execution_count": null,
   "id": "e735a80f",
   "metadata": {},
   "outputs": [],
   "source": [
    "input * Wegith + bais"
   ]
  },
  {
   "cell_type": "code",
   "execution_count": 168,
   "id": "e842ef74",
   "metadata": {},
   "outputs": [
    {
     "data": {
      "text/plain": [
       "18"
      ]
     },
     "execution_count": 168,
     "metadata": {},
     "output_type": "execute_result"
    }
   ],
   "source": [
    "x_train.shape[1]"
   ]
  },
  {
   "cell_type": "code",
   "execution_count": 169,
   "id": "0edd2f48",
   "metadata": {},
   "outputs": [
    {
     "data": {
      "text/plain": [
       "270"
      ]
     },
     "execution_count": 169,
     "metadata": {},
     "output_type": "execute_result"
    }
   ],
   "source": [
    "x_train.shape[1]*15 # Dense X * wegith"
   ]
  },
  {
   "cell_type": "code",
   "execution_count": 170,
   "id": "6d3f1467",
   "metadata": {},
   "outputs": [
    {
     "data": {
      "text/plain": [
       "285"
      ]
     },
     "execution_count": 170,
     "metadata": {},
     "output_type": "execute_result"
    }
   ],
   "source": [
    "(x_train.shape[1] + 1)*15 # X*w+bias"
   ]
  },
  {
   "cell_type": "code",
   "execution_count": 171,
   "id": "eb95fbe8",
   "metadata": {},
   "outputs": [],
   "source": [
    "from sklearn.metrics import roc_curve, auc, confusion_matrix, classification_report,accuracy_score\n",
    "from sklearn.metrics import precision_recall_curve, average_precision_score, f1_score, confusion_matrix\n"
   ]
  },
  {
   "cell_type": "code",
   "execution_count": 172,
   "id": "3b4375b3",
   "metadata": {},
   "outputs": [],
   "source": [
    "from sklearn.metrics import roc_curve, auc, confusion_matrix, classification_report,accuracy_score\n",
    "from sklearn.metrics import precision_recall_curve, average_precision_score, f1_score, confusion_matrix\n",
    "\n",
    "\n",
    "# function to plot the roc_curve\n",
    "def plot_auc(t_y, p_y):\n",
    "    fpr, tpr, thresholds = roc_curve(t_y, p_y, pos_label=1)\n",
    "    fig, c_ax = plt.subplots(1,1, figsize = (9, 9))\n",
    "    c_ax.plot(fpr, tpr, label = '%s (AUC:%0.2f)'  % ('classification', auc(fpr, tpr)))\n",
    "    c_ax.plot([0, 1], [0, 1], color='navy', lw=1, linestyle='--')\n",
    "    c_ax.legend()\n",
    "    c_ax.set_xlabel('False Positive Rate')\n",
    "    c_ax.set_ylabel('True Positive Rate')\n",
    "\n",
    "# function to plot the precision_recall_curve. You can utilizat precision_recall_curve imported above\n",
    "def plot_precision_recall_curve_helper(t_y, p_y):\n",
    "    fig, c_ax = plt.subplots(1,1, figsize = (9, 9))\n",
    "    precision, recall, thresholds = precision_recall_curve(t_y, p_y, pos_label=1)\n",
    "    aps = average_precision_score(t_y, p_y)\n",
    "    c_ax.plot(recall, precision, label = '%s (AP Score:%0.2f)'  % ('classification', aps))\n",
    "    c_ax.plot(recall, precision, color='red', lw=2)\n",
    "    c_ax.legend()\n",
    "    c_ax.set_xlabel('Recall')\n",
    "    c_ax.set_ylabel('Precision')\n",
    "    \n",
    "\n",
    "# function to plot the history\n",
    "def plot_history(history):\n",
    "    f = plt.figure()\n",
    "    f.set_figwidth(15)\n",
    "    \n",
    "    f.add_subplot(1, 2, 1)\n",
    "    plt.plot(history.history['val_loss'], label='val loss')\n",
    "    plt.plot(history.history['loss'], label='train loss')\n",
    "    plt.legend()\n",
    "    plt.title(\"Modell Loss\")\n",
    "    \n",
    "    f.add_subplot(1, 2, 2)\n",
    "    plt.plot(history.history['val_accuracy'], label='val accuracy')\n",
    "    plt.plot(history.history['accuracy'], label='train accuracy')\n",
    "    plt.legend()\n",
    "    plt.title(\"Modell Accuracy\")\n",
    "\n",
    "    plt.show()"
   ]
  },
  {
   "cell_type": "code",
   "execution_count": 173,
   "id": "41aacaff",
   "metadata": {},
   "outputs": [
    {
     "data": {
      "image/png": "[encoded data removed]",
      "text/plain": [
       "<Figure size 1080x288 with 2 Axes>"
      ]
     },
     "metadata": {
      "needs_background": "light"
     },
     "output_type": "display_data"
    }
   ],
   "source": [
    "hist = plot_history(history)"
   ]
  },
  {
   "cell_type": "code",
   "execution_count": 174,
   "id": "52bbd4d2",
   "metadata": {},
   "outputs": [
    {
     "name": "stdout",
     "output_type": "stream",
     "text": [
      "4/4 [==============================] - 0s 2ms/step\n"
     ]
    },
    {
     "data": {
      "image/png": "[encoded data removed]",
      "text/plain": [
       "<Figure size 648x648 with 1 Axes>"
      ]
     },
     "metadata": {
      "needs_background": "light"
     },
     "output_type": "display_data"
    }
   ],
   "source": [
    "plot_auc(y_test, model.predict(x_test, verbose = True))"
   ]
  },
  {
   "cell_type": "code",
   "execution_count": 144,
   "id": "65bf684a",
   "metadata": {},
   "outputs": [
    {
     "name": "stdout",
     "output_type": "stream",
     "text": [
      "4/4 [==============================] - 0s 2ms/step\n"
     ]
    },
    {
     "data": {
      "image/png": "[encoded data removed]",
      "text/plain": [
       "<Figure size 648x648 with 1 Axes>"
      ]
     },
     "metadata": {
      "needs_background": "light"
     },
     "output_type": "display_data"
    }
   ],
   "source": [
    "plot_precision_recall_curve_helper(y_test, model.predict(x_test, verbose = True))"
   ]
  },
  {
   "cell_type": "code",
   "execution_count": 145,
   "id": "5ef0d816",
   "metadata": {},
   "outputs": [
    {
     "name": "stdout",
     "output_type": "stream",
     "text": [
      "4/4 [==============================] - 0s 1ms/step\n",
      "********************************************************************************************************\n",
      "Precision: 1.0\n",
      "Recall: 1.0\n",
      "Threshold: 0.99886775\n",
      "F1 Score: 1.0\n"
     ]
    }
   ],
   "source": [
    "def calc_f1(prec,recall):\n",
    "    return 2*(prec*recall)/(prec+recall) if recall and prec else 0\n",
    "\n",
    "precision, recall, thresholds = precision_recall_curve(y_test, model.predict(x_test, verbose = True))\n",
    "f1score = [calc_f1(precision[i],recall[i]) for i in range(len(thresholds))]\n",
    "idx = np.argmax(f1score)\n",
    "threshold = thresholds[idx]\n",
    "print('********************************************************************************************************')\n",
    "print('Precision: '+ str(precision[idx]))\n",
    "print('Recall: '+ str(recall[idx]))\n",
    "print('Threshold: '+ str(thresholds[idx]))\n",
    "print('F1 Score: ' + str(f1score[idx]))"
   ]
  },
  {
   "cell_type": "code",
   "execution_count": null,
   "id": "6e0316b4",
   "metadata": {},
   "outputs": [],
   "source": []
  },
  {
   "cell_type": "code",
   "execution_count": null,
   "id": "ed3f1f01",
   "metadata": {},
   "outputs": [],
   "source": []
  }
 ],
 "metadata": {
  "kernelspec": {
   "display_name": "Python 3 (ipykernel)",
   "language": "python",
   "name": "python3"
  },
  "language_info": {
   "codemirror_mode": {
    "name": "ipython",
    "version": 3
   },
   "file_extension": ".py",
   "mimetype": "text/x-python",
   "name": "python",
   "nbconvert_exporter": "python",
   "pygments_lexer": "ipython3",
   "version": "3.13.2"
  }
 },
 "nbformat": 4,
 "nbformat_minor": 5
}
